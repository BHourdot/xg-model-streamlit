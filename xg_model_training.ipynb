{
 "cells": [
  {
   "cell_type": "markdown",
   "metadata": {},
   "source": [
    "# 📊 Entraînement d'un modèle xG (Expected Goals)"
   ]
  },
  {
   "cell_type": "markdown",
   "metadata": {},
   "source": [
    "Ce notebook entraîne un modèle de régression logistique pour prédire la probabilité qu'un tir se transforme en but (xG), à partir de données simulées."
   ]
  },
  {
   "cell_type": "code",
   "execution_count": null,
   "metadata": {},
   "outputs": [],
   "source": [
    "# 📦 Imports
",
    "import pandas as pd
",
    "import numpy as np
",
    "from sklearn.linear_model import LogisticRegression
",
    "from sklearn.model_selection import train_test_split
",
    "from sklearn.metrics import roc_auc_score, accuracy_score
",
    "import joblib
",
    "import matplotlib.pyplot as plt
",
    "import seaborn as sns"
   ]
  },
  {
   "cell_type": "code",
   "execution_count": null,
   "metadata": {},
   "outputs": [],
   "source": [
    "# ⚽ Génération de données simulées
",
    "np.random.seed(42)
",
    "n_samples = 500
",
    "df = pd.DataFrame({
",
    "    "x": np.random.uniform(80, 120, n_samples),
",
    "    "y": np.random.uniform(0, 80, n_samples),
",
    "    "shot_type": np.random.choice(["Foot", "Header", "Weak Foot"], n_samples),
",
    "    "situation": np.random.choice(["Open Play", "Set Piece", "Counter"], n_samples),
",
    "    "is_goal": np.random.binomial(1, 0.1, n_samples)
",
    "})
",
    "
",
    "df["distance"] = np.sqrt((120 - df["x"])**2 + (40 - df["y"])**2)
",
    "df["angle_deg"] = np.degrees(np.arctan2(7.32 * (120 - df["x"]), ((120 - df["x"])**2 + (df["y"] - 40)**2 - (7.32 / 2)**2)))
",
    "df.head()"
   ]
  },
  {
   "cell_type": "code",
   "execution_count": null,
   "metadata": {},
   "outputs": [],
   "source": [
    "# 🎨 Visualisation des positions de tir
",
    "plt.figure(figsize=(8, 6))
",
    "sns.scatterplot(x=df['x'], y=df['y'], hue=df['is_goal'], palette='coolwarm')
",
    "plt.title("Position des tirs")
",
    "plt.xlabel("x (longueur terrain)")
",
    "plt.ylabel("y (largeur terrain)")
",
    "plt.grid(True)
",
    "plt.show()"
   ]
  },
  {
   "cell_type": "code",
   "execution_count": null,
   "metadata": {},
   "outputs": [],
   "source": [
    "# 🧠 Entraînement du modèle
",
    "encoded = pd.get_dummies(df[["shot_type", "situation"]])
",
    "X = pd.concat([df[["distance", "angle_deg"]], encoded], axis=1)
",
    "y = df["is_goal"]
",
    "
",
    "X_train, X_test, y_train, y_test = train_test_split(X, y, test_size=0.2, random_state=42)
",
    "
",
    "model = LogisticRegression()
",
    "model.fit(X_train, y_train)
",
    "
",
    "y_pred_proba = model.predict_proba(X_test)[:, 1]
",
    "y_pred = model.predict(X_test)
",
    "
",
    "print("AUC:", roc_auc_score(y_test, y_pred_proba))
",
    "print("Accuracy:", accuracy_score(y_test, y_pred))"
   ]
  },
  {
   "cell_type": "code",
   "execution_count": null,
   "metadata": {},
   "outputs": [],
   "source": [
    "# 💾 Sauvegarde du modèle
",
    "joblib.dump((model, X.columns.tolist()), "xG_model.pkl")
",
    "print("Modèle enregistré dans xG_model.pkl")"
   ]
  }
 ],
 "metadata": {
  "kernelspec": {
   "display_name": "Python 3",
   "language": "python",
   "name": "python3"
  },
  "language_info": {
   "name": "python",
   "version": "3.11"
  }
 },
 "nbformat": 4,
 "nbformat_minor": 2
}
